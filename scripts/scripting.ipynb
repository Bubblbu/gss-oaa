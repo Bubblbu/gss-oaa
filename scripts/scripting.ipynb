{
 "cells": [
  {
   "cell_type": "code",
   "execution_count": 93,
   "metadata": {},
   "outputs": [],
   "source": [
    "import requests\n",
    "import pandas as pd\n",
    "from pathlib import Path\n",
    "from argparse import ArgumentParser\n",
    "import re\n",
    "import numpy as np"
   ]
  },
  {
   "cell_type": "code",
   "execution_count": 94,
   "metadata": {},
   "outputs": [],
   "source": [
    "inputfile = Path(\"../oaa-2018/data/applicants.csv\")\n",
    "df = pd.read_csv(inputfile, na_values=[\"\"])\n",
    "\n",
    "headers = {'Accept': 'application/json'} \n",
    "issn_url = \"https://doaj.org/api/v1/search/journals/issn:{}\"\n",
    "name_url = \"https://doaj.org/api/v1/search/journals/title:{}\""
   ]
  },
  {
   "cell_type": "code",
   "execution_count": 95,
   "metadata": {},
   "outputs": [
    {
     "name": "stdout",
     "output_type": "stream",
     "text": [
      "*** Checking summit IDs\n",
      "0 duplicate submissions were found among the applications.\n"
     ]
    }
   ],
   "source": [
    "# check duplicate submission\n",
    "print(\"*** Checking summit IDs\")\n",
    "unique_cols = ['Name (First)', 'Name (Last)', 'Email', 'Student ID#', 'Article Title', 'Please provide the ID of your paper in the SFU Research Summit repository']\n",
    "df['duplicate_submission'] = df.duplicated(subset=unique_cols)\n",
    "print(\"{} duplicate submissions were found among the applications.\".format(df['duplicate_submission'].sum()))"
   ]
  },
  {
   "cell_type": "code",
   "execution_count": 96,
   "metadata": {},
   "outputs": [
    {
     "name": "stdout",
     "output_type": "stream",
     "text": [
      "*** Checking summit IDs\n",
      "1 submission did not provide a Summit ID\n"
     ]
    }
   ],
   "source": [
    "print(\"*** Checking summit IDs\")\n",
    "df['uploaded_to_summit'] = df['Please provide the ID of your paper in the SFU Research Summit repository'].notna()\n",
    "print(\"{} submission did not provide a Summit ID\".format((~df['uploaded_to_summit']).sum()))"
   ]
  },
  {
   "cell_type": "code",
   "execution_count": 103,
   "metadata": {},
   "outputs": [
    {
     "name": "stdout",
     "output_type": "stream",
     "text": [
      "*** Checking journals\n",
      "1/33 - Scientific Reports (2045-2322)\n",
      "Lookup by ISSN... found 0 journals via ISSN\n",
      "Open Access: Yes\n",
      "\n",
      "2/33 - Intech Open (978-1-78923-365-0)\n",
      "ISSN invalid. Lookup by name... found 0 journals via name\n",
      "Requiring manual attention:Found 0 possible candidate journals in DOAJ.\n",
      "\n",
      "3/33 - Ecosphere (2150-8925)\n",
      "Lookup by ISSN... found 0 journals via ISSN\n",
      "Open Access: Yes\n",
      "\n",
      "4/33 - Global Qualitative Nursing Research  (DOI: 10.1177/2333393618785095)\n",
      "ISSN invalid. Lookup by name... found 0 journals via name\n",
      "Open Access: Yes\n",
      "\n",
      "5/33 - International Journal of Qualitative Methods   (DOI: 10.1177/1609406918769444)\n",
      "ISSN invalid. Lookup by name... found 0 journals via name\n",
      "Open Access: Yes\n",
      "\n",
      "6/33 - International Journal of Engineering Pedagogy (iJEP) (2192-4880)\n",
      "Lookup by ISSN... found 0 journals via ISSN\n",
      "Open Access: Yes\n",
      "\n",
      "7/33 - Remote sensing journal/MDPI (2072-4292)\n",
      "Lookup by ISSN... found 0 journals via ISSN\n",
      "Open Access: Yes\n",
      "\n",
      "8/33 - Frontiers in Physiology (1664-042X)\n",
      "Lookup by ISSN... found 0 journals via ISSN\n",
      "Open Access: Yes\n",
      "\n",
      "9/33 - Progress in Biophysics and Molecular Biology (0079-6107)\n",
      "Lookup by ISSN... found 0 journals via ISSN\n",
      "ISSN lookup no results. Lookup by name... found 0 journals via name\n",
      "Requiring manual attention:Found 0 possible candidate journals in DOAJ.\n",
      "\n",
      "10/33 - mBio (2150-7511)\n",
      "Lookup by ISSN... found 0 journals via ISSN\n",
      "Open Access: Yes\n",
      "\n",
      "11/33 - PLOS ONE (1932-6203)\n",
      "Lookup by ISSN... found 0 journals via ISSN\n",
      "Open Access: Yes\n",
      "\n",
      "12/33 - Arctic Science (2368-7460)\n",
      "Lookup by ISSN... found 0 journals via ISSN\n",
      "ISSN lookup no results. Lookup by name... found 0 journals via name\n",
      "Open Access: Yes\n",
      "\n",
      "13/33 - Nature Communications (2041-1723)\n",
      "Lookup by ISSN... found 0 journals via ISSN\n",
      "Open Access: Yes\n",
      "\n",
      "14/33 - Preventive Medicine Reports (2211-3355)\n",
      "Lookup by ISSN... found 0 journals via ISSN\n",
      "Open Access: Yes\n",
      "\n",
      "15/33 - International Journal of Environmental Research and Public Health (1660-4601)\n",
      "Lookup by ISSN... found 0 journals via ISSN\n",
      "Open Access: Yes\n",
      "\n",
      "16/33 - Biomedical engineering online (1475-925X)\n",
      "Lookup by ISSN... found 0 journals via ISSN\n",
      "Open Access: Yes\n",
      "\n",
      "17/33 - Journal of Archaeology and Education (2475-7411)\n",
      "Lookup by ISSN... found 0 journals via ISSN\n",
      "ISSN lookup no results. Lookup by name... found 0 journals via name\n",
      "Requiring manual attention:Found 0 possible candidate journals in DOAJ.\n",
      "\n",
      "18/33 - Journal of Biological Chemistry (1083-351X)\n",
      "Lookup by ISSN... found 0 journals via ISSN\n",
      "ISSN lookup no results. Lookup by name... found 0 journals via name\n",
      "Requiring manual attention:Found 3 possible candidate journals in DOAJ.\n",
      "\n",
      "19/33 - BMJ Open (2044-6055 )\n",
      "Lookup by ISSN... found 0 journals via ISSN\n",
      "Open Access: Yes\n",
      "\n",
      "20/33 - Journal of Clinical Investigation Insight (2379-3708)\n",
      "Lookup by ISSN... found 0 journals via ISSN\n",
      "ISSN lookup no results. Lookup by name... found 0 journals via name\n",
      "Requiring manual attention:Found 0 possible candidate journals in DOAJ.\n",
      "\n",
      "21/33 - Immunology and Cell Biology (1440-1711)\n",
      "Lookup by ISSN... found 0 journals via ISSN\n",
      "ISSN lookup no results. Lookup by name... found 0 journals via name\n",
      "Requiring manual attention:Found 0 possible candidate journals in DOAJ.\n",
      "\n",
      "22/33 - Frontiers in Psychology (1664-1078)\n",
      "Lookup by ISSN... found 0 journals via ISSN\n",
      "Open Access: Yes\n",
      "\n",
      "23/33 - Frontiers in Psychology (1664-1078)\n",
      "Lookup by ISSN... found 0 journals via ISSN\n",
      "Open Access: Yes\n",
      "\n",
      "24/33 - Control Engineering Practice (0967-0661)\n",
      "Lookup by ISSN... found 0 journals via ISSN\n",
      "ISSN lookup no results. Lookup by name... found 0 journals via name\n",
      "Requiring manual attention:Found 0 possible candidate journals in DOAJ.\n",
      "\n",
      "25/33 - Scientific Reports (2045-2322)\n",
      "Lookup by ISSN... found 0 journals via ISSN\n",
      "Open Access: Yes\n",
      "\n",
      "26/33 - Channels (1933-6969)\n",
      "Lookup by ISSN... found 0 journals via ISSN\n",
      "ISSN lookup no results. Lookup by name... found 0 journals via name\n",
      "Requiring manual attention:Found 0 possible candidate journals in DOAJ.\n",
      "\n",
      "27/33 - Nature Communications (2041-1723)\n",
      "Lookup by ISSN... found 0 journals via ISSN\n",
      "Open Access: Yes\n",
      "\n",
      "28/33 - Revista EPTIC (1518-2487)\n",
      "Lookup by ISSN... found 0 journals via ISSN\n",
      "Open Access: Yes\n",
      "\n",
      "29/33 - Nature Communications (2041-1723)\n",
      "Lookup by ISSN... found 0 journals via ISSN\n",
      "Open Access: Yes\n",
      "\n",
      "30/33 - PLOS ONE (1932-6203)\n",
      "Lookup by ISSN... found 0 journals via ISSN\n",
      "Open Access: Yes\n",
      "\n",
      "31/33 - Canadian Graduate Journal of Sociology and Criminology (1927-9825)\n",
      "Lookup by ISSN... found 0 journals via ISSN\n",
      "Open Access: Yes\n",
      "\n",
      "32/33 - Viruses (1999-4915)\n",
      "Lookup by ISSN... found 0 journals via ISSN\n",
      "Open Access: Yes\n",
      "\n",
      "33/33 - Journal of translational medicine (1479-5876)\n",
      "Lookup by ISSN... found 0 journals via ISSN\n",
      "Open Access: Yes\n",
      "\n",
      "Found in DOAJ: 25,requiring attention: 8\n"
     ]
    }
   ],
   "source": [
    "print(\"*** Checking journals\")\n",
    "\n",
    "i = 1\n",
    "application_count = len(df)\n",
    "for ix, row in df[[\"Journal Name\",\"Journal ISSN\"]].iterrows():\n",
    "    name = row[\"Journal Name\"]\n",
    "    issn = row[\"Journal ISSN\"]\n",
    "    \n",
    "    is_open_access = None\n",
    "    \n",
    "    print(\"{}/{} - {} ({})\".format(i, application_count, name, issn))\n",
    "    is_issn = re.match(\"[\\S]{4}\\-[\\S]{4}\", issn)\n",
    "    \n",
    "    if is_issn:\n",
    "        r = requests.get(issn_url.format(issn), headers=headers)\n",
    "        total = r.json()['total']\n",
    "        print(\"Lookup by ISSN... found {} journals via ISSN\".format(0))\n",
    "        if total == 1:\n",
    "            is_open_access = r.json()['results'][0]['bibjson']['license'][0]['open_access']\n",
    "        elif total < 1:\n",
    "            r = requests.get(name_url.format(name), headers=headers)\n",
    "            total = r.json()['total']\n",
    "            print(\"ISSN lookup no results. Lookup by name... found {} journals via name\".format(0))\n",
    "            if total == 1:\n",
    "                is_open_access = r.json()['results'][0]['bibjson']['license'][0]['open_access']\n",
    "    else:\n",
    "        r = requests.get(name_url.format(name), headers=headers)\n",
    "        total = r.json()['total']\n",
    "        print(\"ISSN invalid. Lookup by name... found {} journals via name\".format(0))\n",
    "        if total == 1:\n",
    "            is_open_access = r.json()['results'][0]['bibjson']['license'][0]['open_access']\n",
    "    \n",
    "    error_msg = None\n",
    "    if is_open_access is True:\n",
    "        print(\"Open Access: Yes\")\n",
    "    elif is_open_access is False:\n",
    "        print(\"Open Access: No\")\n",
    "    else:\n",
    "        error_msg = \"Found {} possible candidate journals in DOAJ.\".format(total)\n",
    "        print(\"Requiring manual attention: \" + error_msg)\n",
    "        \n",
    "    df.loc[ix, 'found_on_DOAJ'] = is_open_access\n",
    "    df.loc[ix, 'doaj_error'] = error_msg\n",
    "    print(\"\")\n",
    "    i = i + 1\n",
    "\n",
    "print(\"Found in DOAJ: {},requiring attention: {}\".format(df['found_on_DOAJ'].sum(), (df['found_on_DOAJ'] != True).sum()))"
   ]
  },
  {
   "cell_type": "code",
   "execution_count": 117,
   "metadata": {},
   "outputs": [],
   "source": [
    "df['eligible'] = df['found_on_DOAJ'] & df['uploaded_to_summit']\n",
    "df.loc[df['found_on_DOAJ'].isna(), 'eligible'] = \"\""
   ]
  },
  {
   "cell_type": "code",
   "execution_count": 119,
   "metadata": {},
   "outputs": [
    {
     "data": {
      "text/plain": [
       "0     False\n",
       "1          \n",
       "2      True\n",
       "3      True\n",
       "4      True\n",
       "5      True\n",
       "6      True\n",
       "7      True\n",
       "8          \n",
       "9      True\n",
       "10     True\n",
       "11     True\n",
       "12     True\n",
       "13     True\n",
       "14     True\n",
       "15     True\n",
       "16         \n",
       "17         \n",
       "18     True\n",
       "19         \n",
       "20         \n",
       "21     True\n",
       "22     True\n",
       "23         \n",
       "24     True\n",
       "25         \n",
       "26     True\n",
       "27     True\n",
       "28     True\n",
       "29     True\n",
       "30     True\n",
       "31     True\n",
       "32     True\n",
       "Name: eligible, dtype: object"
      ]
     },
     "execution_count": 119,
     "metadata": {},
     "output_type": "execute_result"
    }
   ],
   "source": [
    "df['eligible']"
   ]
  },
  {
   "cell_type": "code",
   "execution_count": 120,
   "metadata": {},
   "outputs": [],
   "source": [
    "df.to_csv(\"applications_validate.csv\")"
   ]
  },
  {
   "cell_type": "code",
   "execution_count": null,
   "metadata": {},
   "outputs": [],
   "source": []
  },
  {
   "cell_type": "code",
   "execution_count": null,
   "metadata": {},
   "outputs": [],
   "source": [
    "inputfile = Path(\"../oaa-2018/data/verified_applicants.csv\")\n",
    "df = pd.read_csv(inputfile, na_values=[\"\"])"
   ]
  }
 ],
 "metadata": {
  "kernelspec": {
   "display_name": "altmetrics",
   "language": "python",
   "name": "altmetrics"
  },
  "language_info": {
   "codemirror_mode": {
    "name": "ipython",
    "version": 3
   },
   "file_extension": ".py",
   "mimetype": "text/x-python",
   "name": "python",
   "nbconvert_exporter": "python",
   "pygments_lexer": "ipython3",
   "version": "3.5.2"
  }
 },
 "nbformat": 4,
 "nbformat_minor": 2
}
